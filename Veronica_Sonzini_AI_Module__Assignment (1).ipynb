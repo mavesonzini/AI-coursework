{
  "nbformat": 4,
  "nbformat_minor": 0,
  "metadata": {
    "colab": {
      "name": "Veronica Sonzini_AI_Module_ Assignment.ipynb",
      "version": "0.3.2",
      "provenance": [],
      "collapsed_sections": []
    },
    "kernelspec": {
      "name": "python3",
      "display_name": "Python 3"
    }
  },
  "cells": [
    {
      "metadata": {
        "id": "5KJaXqvBx-ps",
        "colab_type": "text"
      },
      "cell_type": "markdown",
      "source": [
        "**Veronica Sonzini - AI - Module Assignment**\n",
        "\n",
        "\n",
        "# Analysis of Breast Cancer Dataset for Breast Cancer Detection.\n",
        "\n",
        "##Introduction\n",
        "Breast cancer is a significant global health problem. Every single year, over 1.6 million people are diagnosed with the disease, and while advances in early detection and treatment have improved survival rates, breast cancer still claims the lives of 500,000 people around the world every year, around 11,000 of whom are here in the UK. \n",
        "\n",
        "That’s partly because accurately detecting and diagnosing breast cancer still remains a huge challenge.\n",
        "\n",
        "When detected in its early stages, there is a 30% chancethat the cancer can be treated eﬀectively, but the late de-tection of advanced-stage tumors makes the treatment morediﬃcult \n",
        "\n",
        "Currently, the most used techniques to detect breast cancer in early stages are: mammography (63% to 97% correctness), FNA (Fine Needle Aspiration) with visual interpretation (65% to 98% correctness) and surgical biopsy (approximately 100% correctness). Therefore, mammography and FNA with visual interpretation correctness varies widely, and the surgical biopsy, although reliable, is invasive and costly. \n",
        "\n",
        "\n",
        "![alt text](http://resources.ama.uk.com/glowm_www/graphics/figures/v1/0270/016f.jpg)\n",
        "\n",
        "Image of FNA technique\n",
        "\n",
        "## The Data Set and the Problem\n",
        "[Breast Cancer Data Set](https://archive.ics.uci.edu/ml/datasets/Breast+Cancer+Wisconsin+%28Original%29\n",
        ")\n",
        "\n",
        "###Problem\n",
        "Currently, the most used techniques to detect breast cancer in early stages are: mammography (63% to 97% correctness), FNA (Fine Needle Aspiration) with visual interpretation (65% to 98% correctness) and surgical biopsy (approximately 100% correctness). \n",
        "\n",
        "**Therefore, mammography and FNA with visual interpretation correctness varies widely, and the surgical biopsy, although reliable, is invasive and costly.**\n",
        "    \n",
        "This coursework discuss a diagnosis technique that uses the FNA (Fine Needle Aspiration) with machine learning and aims to create a classiﬁer that provides a high level of accuracy, with a low rate of false-negatives. \n",
        "\n",
        "\n",
        "***QUESTION: Can we predict if a tumor in the breast is cancerous or not, based on results obtainned in a Fine Needle Aspiration?***\n",
        "\n",
        "###What we can do once the problem is solved\n",
        "Solving this problem will help to reduce the high\n",
        "    number of unnecessary breast biopsies. This could\n",
        "    help physicians in their decision to perform a breast biopsy on a suspicious\n",
        "    lesion seen in a mammogram or to perform a short term follow-up\n",
        "    examination instead.\n",
        "\n",
        "###Type of data found in the data set\n",
        "**Number of Instances: 699.**\n",
        "\n",
        "This dataset is widely utilized for this kind of application because it has a large number of instances (699), is virtually noise-free and has just a few missing values. Before performing the tests, a large fraction of this work will be dedicated for pre-processing the data in order to optimize the classifier.\n",
        "\n",
        "Each feature is evaluated on a scale of 1 to 10, with 1 being the closest to benign and 10 the closest to malignant. Statistical analysis showed that the following nine characteristics differ signiﬁcantly between benign and malignant samples: uniformity of cell shape, uniformity of cell size, clump thickness, bare nuclei, cell size, normal nucleoli, clump cohesiveness, nuclear chromatin and mitoses.\n",
        "  \n",
        "  Attributes:\n",
        "\n",
        "1. Sample code number: id number \n",
        "2. Clump Thickness: 1 - 10 \n",
        "3. Uniformity of Cell Size: 1 - 10 \n",
        "4. Uniformity of Cell Shape: 1 - 10 \n",
        "5. Marginal Adhesion: 1 - 10 \n",
        "6. Single Epithelial Cell Size: 1 - 10 \n",
        "7. Bare Nuclei: 1 - 10 \n",
        "8. Bland Chromatin: 1 - 10 \n",
        "9. Normal Nucleoli: 1 - 10 \n",
        "10. Mitoses: 1 - 10 \n",
        "11. **Class: (2 for benign, 4 for malignant)** This will be out target (what we want to predict)\n",
        "\n",
        "### Type of problem: \n",
        "This is a **classification** problem, since the main goal is to identify the cathergory or class to which new data will fall under: **Benign** or **Malignant**. \n",
        "\n",
        "The predictions will be made using **supervised** learning because we'll act as a guide to teach the algorithm what conclusions it should come up with."
      ]
    },
    {
      "metadata": {
        "id": "MoJAlpXJj1mI",
        "colab_type": "text"
      },
      "cell_type": "markdown",
      "source": [
        "#Pre-Processing the data\n",
        "Considering the data set adopted, the pre-processing will focus on managing the missing attributes and the number of attributes used to train the classiﬁer. Cleaning the data is crucial here to get sensible models. \n",
        "\n",
        "##Cleaning the data set: replacing attribute missing values\n",
        "The data can be considered ‘noise-free' and has 16 missing values, which are the Bare Nuclei for 16 different instances, from group 1 to 6. \n",
        "The missing values are represented by \"**?**\".\n",
        " \n",
        "In order to clean this up, we are going to replace all missing values with **-99999**. By replacing the **?** with such a large number, most algorithms will recognize this as an **outlier**, and will treat it as such, as opossed to removing the data completely. If we were to drop everything with a missing data, we would maybe sacrifice a large percentage of it. \n",
        "\n",
        "When we look at our data set, we can see that the column **\"ID\"** doestn't have any implication as to wether or not a tumor can be bening or malignant. So we can remove this column completely. "
      ]
    },
    {
      "metadata": {
        "id": "tCvVin2I5Yk_",
        "colab_type": "code",
        "colab": {
          "base_uri": "https://localhost:8080/",
          "height": 359
        },
        "outputId": "e1de5578-fc58-42b2-edf8-87a0e83a470c"
      },
      "cell_type": "code",
      "source": [
        "import numpy as np\n",
        "import pandas as pd\n",
        "from sklearn import preprocessing\n",
        "\n",
        "url = 'https://archive.ics.uci.edu/ml/machine-learning-databases/breast-cancer-wisconsin/breast-cancer-wisconsin.data'\n",
        "columns = [\n",
        " \"id\", \"clump_thickness\", \"unif_cell_size\", \"unif_cell_shape\", \"marg_adhesion\", \"single_epith_cell_size\", \"bare_nuclei\", \"bland_chrom\", \"norm_nucleoli\", \"mitoses\", \"class\"\n",
        "]\n",
        "\n",
        "raw_data = pd.read_csv(url, names=columns, index_col=False)\n",
        "data_set = raw_data.copy(deep=True)\n",
        "\n",
        "## Cleanning data:\n",
        "# Replacing missing values\n",
        "data_set.replace('?', -99999, inplace=True)\n",
        "\n",
        "# Normalisation of data: replacing values in 'class' column: 2(bening) and 4(malignant) for 0(bening) and 1(malignant)\n",
        "data_set['class'] = data_set['class'].map({2:0, 4:1})\n",
        "\n",
        "new_columns = [\"clump_thickness\", \"unif_cell_size\", \"unif_cell_shape\", \"marg_adhesion\", \"single_epith_cell_size\", \"bare_nuclei\", \"bland_chrom\", \"norm_nucleoli\", \"mitoses\", \"class\"]\n",
        "\n",
        "# Dropping unnecessary columns (ID)\n",
        "data_set.drop(['id'],1, inplace=True)\n",
        "\n",
        "# Print the first 10 rows of the data set\n",
        "data_set.head(10)"
      ],
      "execution_count": 43,
      "outputs": [
        {
          "output_type": "execute_result",
          "data": {
            "text/html": [
              "<div>\n",
              "<style scoped>\n",
              "    .dataframe tbody tr th:only-of-type {\n",
              "        vertical-align: middle;\n",
              "    }\n",
              "\n",
              "    .dataframe tbody tr th {\n",
              "        vertical-align: top;\n",
              "    }\n",
              "\n",
              "    .dataframe thead th {\n",
              "        text-align: right;\n",
              "    }\n",
              "</style>\n",
              "<table border=\"1\" class=\"dataframe\">\n",
              "  <thead>\n",
              "    <tr style=\"text-align: right;\">\n",
              "      <th></th>\n",
              "      <th>clump_thickness</th>\n",
              "      <th>unif_cell_size</th>\n",
              "      <th>unif_cell_shape</th>\n",
              "      <th>marg_adhesion</th>\n",
              "      <th>single_epith_cell_size</th>\n",
              "      <th>bare_nuclei</th>\n",
              "      <th>bland_chrom</th>\n",
              "      <th>norm_nucleoli</th>\n",
              "      <th>mitoses</th>\n",
              "      <th>class</th>\n",
              "    </tr>\n",
              "  </thead>\n",
              "  <tbody>\n",
              "    <tr>\n",
              "      <th>0</th>\n",
              "      <td>5</td>\n",
              "      <td>1</td>\n",
              "      <td>1</td>\n",
              "      <td>1</td>\n",
              "      <td>2</td>\n",
              "      <td>1</td>\n",
              "      <td>3</td>\n",
              "      <td>1</td>\n",
              "      <td>1</td>\n",
              "      <td>0</td>\n",
              "    </tr>\n",
              "    <tr>\n",
              "      <th>1</th>\n",
              "      <td>5</td>\n",
              "      <td>4</td>\n",
              "      <td>4</td>\n",
              "      <td>5</td>\n",
              "      <td>7</td>\n",
              "      <td>10</td>\n",
              "      <td>3</td>\n",
              "      <td>2</td>\n",
              "      <td>1</td>\n",
              "      <td>0</td>\n",
              "    </tr>\n",
              "    <tr>\n",
              "      <th>2</th>\n",
              "      <td>3</td>\n",
              "      <td>1</td>\n",
              "      <td>1</td>\n",
              "      <td>1</td>\n",
              "      <td>2</td>\n",
              "      <td>2</td>\n",
              "      <td>3</td>\n",
              "      <td>1</td>\n",
              "      <td>1</td>\n",
              "      <td>0</td>\n",
              "    </tr>\n",
              "    <tr>\n",
              "      <th>3</th>\n",
              "      <td>6</td>\n",
              "      <td>8</td>\n",
              "      <td>8</td>\n",
              "      <td>1</td>\n",
              "      <td>3</td>\n",
              "      <td>4</td>\n",
              "      <td>3</td>\n",
              "      <td>7</td>\n",
              "      <td>1</td>\n",
              "      <td>0</td>\n",
              "    </tr>\n",
              "    <tr>\n",
              "      <th>4</th>\n",
              "      <td>4</td>\n",
              "      <td>1</td>\n",
              "      <td>1</td>\n",
              "      <td>3</td>\n",
              "      <td>2</td>\n",
              "      <td>1</td>\n",
              "      <td>3</td>\n",
              "      <td>1</td>\n",
              "      <td>1</td>\n",
              "      <td>0</td>\n",
              "    </tr>\n",
              "    <tr>\n",
              "      <th>5</th>\n",
              "      <td>8</td>\n",
              "      <td>10</td>\n",
              "      <td>10</td>\n",
              "      <td>8</td>\n",
              "      <td>7</td>\n",
              "      <td>10</td>\n",
              "      <td>9</td>\n",
              "      <td>7</td>\n",
              "      <td>1</td>\n",
              "      <td>1</td>\n",
              "    </tr>\n",
              "    <tr>\n",
              "      <th>6</th>\n",
              "      <td>1</td>\n",
              "      <td>1</td>\n",
              "      <td>1</td>\n",
              "      <td>1</td>\n",
              "      <td>2</td>\n",
              "      <td>10</td>\n",
              "      <td>3</td>\n",
              "      <td>1</td>\n",
              "      <td>1</td>\n",
              "      <td>0</td>\n",
              "    </tr>\n",
              "    <tr>\n",
              "      <th>7</th>\n",
              "      <td>2</td>\n",
              "      <td>1</td>\n",
              "      <td>2</td>\n",
              "      <td>1</td>\n",
              "      <td>2</td>\n",
              "      <td>1</td>\n",
              "      <td>3</td>\n",
              "      <td>1</td>\n",
              "      <td>1</td>\n",
              "      <td>0</td>\n",
              "    </tr>\n",
              "    <tr>\n",
              "      <th>8</th>\n",
              "      <td>2</td>\n",
              "      <td>1</td>\n",
              "      <td>1</td>\n",
              "      <td>1</td>\n",
              "      <td>2</td>\n",
              "      <td>1</td>\n",
              "      <td>1</td>\n",
              "      <td>1</td>\n",
              "      <td>5</td>\n",
              "      <td>0</td>\n",
              "    </tr>\n",
              "    <tr>\n",
              "      <th>9</th>\n",
              "      <td>4</td>\n",
              "      <td>2</td>\n",
              "      <td>1</td>\n",
              "      <td>1</td>\n",
              "      <td>2</td>\n",
              "      <td>1</td>\n",
              "      <td>2</td>\n",
              "      <td>1</td>\n",
              "      <td>1</td>\n",
              "      <td>0</td>\n",
              "    </tr>\n",
              "  </tbody>\n",
              "</table>\n",
              "</div>"
            ],
            "text/plain": [
              "   clump_thickness  unif_cell_size  unif_cell_shape  marg_adhesion  \\\n",
              "0                5               1                1              1   \n",
              "1                5               4                4              5   \n",
              "2                3               1                1              1   \n",
              "3                6               8                8              1   \n",
              "4                4               1                1              3   \n",
              "5                8              10               10              8   \n",
              "6                1               1                1              1   \n",
              "7                2               1                2              1   \n",
              "8                2               1                1              1   \n",
              "9                4               2                1              1   \n",
              "\n",
              "   single_epith_cell_size bare_nuclei  bland_chrom  norm_nucleoli  mitoses  \\\n",
              "0                       2           1            3              1        1   \n",
              "1                       7          10            3              2        1   \n",
              "2                       2           2            3              1        1   \n",
              "3                       3           4            3              7        1   \n",
              "4                       2           1            3              1        1   \n",
              "5                       7          10            9              7        1   \n",
              "6                       2          10            3              1        1   \n",
              "7                       2           1            3              1        1   \n",
              "8                       2           1            1              1        5   \n",
              "9                       2           1            2              1        1   \n",
              "\n",
              "   class  \n",
              "0      0  \n",
              "1      0  \n",
              "2      0  \n",
              "3      0  \n",
              "4      0  \n",
              "5      1  \n",
              "6      0  \n",
              "7      0  \n",
              "8      0  \n",
              "9      0  "
            ]
          },
          "metadata": {
            "tags": []
          },
          "execution_count": 43
        }
      ]
    },
    {
      "metadata": {
        "id": "6JSdPwzYfyyS",
        "colab_type": "text"
      },
      "cell_type": "markdown",
      "source": [
        "#The Models\n",
        "\n",
        "##Review of model evaluation procedures\n",
        "\n",
        "###Motivation: \n",
        "Need a way to choose between machine learning models\n",
        "  - Goal is to estimate likely performance of a model on **out-of-sample data**\n",
        "  \n",
        "\n",
        "###Initial idea:\n",
        "Train and test on the same data\n",
        "  - But, maximizing **training accuracy** rewards overly complex models which **overfit** the training data\n",
        "  \n",
        "###Alternative idea:\n",
        "  - Split the data set into two pieces, so that the model can be trained and tested on **different data**\n",
        "  - **Testing accuracy** is better estimate than training accuracy of out-of-sample performance\n",
        "  - But, it provides a **high variance** estimate since changing which observations happen to be in the testing set can significantly change testing accuracy\n",
        "  \n",
        "  \n",
        "Our first idea was to train each model on the entire data set, and then evaluate each model by testing how well it performs on tha same data. This will produce an evaluation metric known as **training accuracy**. Unfortunately training accuracy rewards **overly complex models** that are unlikely to generalize feature data, which is known as **overfiting** the trainig data. The alternative procedure we came up with is called **train/test split**, in which we split up the data set into two pieces know as the **training and testing sets**, we train the model on the training set  and we evaluate the model by testing its performance with the testing set.\n",
        "\n",
        "The resulting evaluation metric is know as **testing accuracy**, which is a better estimate of out of sample performance than training accuracy, because we trained and tested the model on different sets of data. As well, testing accuracy does not reward  overly complex models, and thus it helps up to avoid overfiting.\n",
        "\n",
        "However, there is a drawback to the train/test split procedure. It turns out that the testing accuracy is a **high variance** estimate of out-of-sample accuracy, meaning that testing accuracy can change a lot depending on which observations happened to be in the testing set. \n",
        "\n",
        "\n",
        "#K-fold cross-validation\n",
        "\n",
        "  1. Split the data set into K **equal** partitions (or \"folds\")\n",
        "  2. Use fold 1 as the **testing set** and the union of the other folds as the **training set**.\n",
        "  3. Calculate **testing accuracy**.\n",
        "  4. Repeat steps 2 and 3 K times, using different fold as the testing set each time.\n",
        "  5. Use the **average testing accuracy** as the estimate of out-of-sample accuracy.\n",
        "  \n",
        "  ##Comparing cross-validation to train/test split\n",
        "  ###Advantages of cross-validation\n",
        "    - More accurate estimate of out-of-sample accuracy\n",
        "    - More \"efficient\" use of data (every observation is used for both training and testing)\n",
        "    \n",
        "###Advantages of train/test split\n",
        "  - Runs K times faster\n",
        "  - Simpler to examine the detailed results of the testing process\n",
        "  \n",
        "  \n",
        "  \n",
        "  \n",
        "  \n"
      ]
    },
    {
      "metadata": {
        "id": "GuFP3i2FNSLO",
        "colab_type": "text"
      },
      "cell_type": "markdown",
      "source": [
        "#K-Nearest Neighbors\n",
        "The goal of this algorithm is to find groups in the data. Rather than defining groups before looking at the data, clustering allows us to find and analyse the groups that have formed organically. \n",
        "\n",
        "The accuracy of K-means was low, so to train the models we are going to use the pre-clustered data. \n"
      ]
    },
    {
      "metadata": {
        "id": "4Ry-kDTqNTH0",
        "colab_type": "code",
        "colab": {}
      },
      "cell_type": "code",
      "source": [
        "import numpy as np\n",
        "from sklearn.cross_validation import KFold\n",
        "from sklearn.cross_validation import cross_val_score\n",
        "from sklearn import cross_validation\n",
        "from sklearn import metrics, neighbors\n",
        "from sklearn.metrics import accuracy_score\n",
        "from sklearn.cluster import KMeans\n",
        "from sklearn.neighbors import KNeighborsClassifier\n",
        "\n",
        "# X will be the features: everything except the class column which is our target\n",
        "X = np.array(data_set.drop(['class'], 1))\n",
        "\n",
        "# y will be the labels, so basically just our class. \n",
        "y = np.array(data_set['class'])"
      ],
      "execution_count": 0,
      "outputs": []
    },
    {
      "metadata": {
        "id": "83ou7rCVR1tK",
        "colab_type": "code",
        "colab": {
          "base_uri": "https://localhost:8080/",
          "height": 54
        },
        "outputId": "f5feab23-7c89-49c7-ac1e-fa845771f0ee"
      },
      "cell_type": "code",
      "source": [
        "# Search for an optimal value of k for KNN\n",
        "k_range = range(1,31)\n",
        "k_scores = []\n",
        "for k in k_range:\n",
        "  knn = KNeighborsClassifier(n_neighbors=k)\n",
        "  scores = cross_val_score(knn, X, y, cv=10, scoring='accuracy')\n",
        "  k_scores.append(scores.mean())\n",
        "print(k_scores)"
      ],
      "execution_count": 45,
      "outputs": [
        {
          "output_type": "stream",
          "text": [
            "[0.9573032397282246, 0.9429347097075207, 0.9629151721925758, 0.9657930189834663, 0.9686501618406089, 0.967242294345785, 0.9715285918409006, 0.9644058554223894, 0.9672629982795323, 0.9658344268509609, 0.9686915697081038, 0.9658344268509609, 0.9658344268509609, 0.9644058554223894, 0.9658344268509609, 0.9658344268509609, 0.9644058554223894, 0.962977283993818, 0.962977283993818, 0.9644058554223894, 0.9644058554223894, 0.9615487125652467, 0.9615487125652467, 0.9601402618610212, 0.9615487125652467, 0.9601402618610212, 0.9615487125652467, 0.9587116904324497, 0.9601201411366752, 0.9587116904324497]\n"
          ],
          "name": "stdout"
        }
      ]
    },
    {
      "metadata": {
        "id": "7lNyGqBHS-uY",
        "colab_type": "code",
        "colab": {
          "base_uri": "https://localhost:8080/",
          "height": 380
        },
        "outputId": "7248ead9-3b14-4f1a-835a-fa15caf49e9d"
      },
      "cell_type": "code",
      "source": [
        "import matplotlib.pyplot as plt\n",
        "\n",
        "# Plot the value of k for KNN (x-axis) versus the cross-validated accuracy (y-axis)\n",
        "plt.plot(k_range, k_scores)\n",
        "plt.xlabel('Value of k for KNN')\n",
        "plt.ylabel('Cross-validated Accuracy')"
      ],
      "execution_count": 46,
      "outputs": [
        {
          "output_type": "execute_result",
          "data": {
            "text/plain": [
              "Text(0,0.5,'Cross-validated Accuracy')"
            ]
          },
          "metadata": {
            "tags": []
          },
          "execution_count": 46
        },
        {
          "output_type": "display_data",
          "data": {
            "image/png": "[encoded data removed]",
            "text/plain": [
              "<matplotlib.figure.Figure at 0x7f8218ec1550>"
            ]
          },
          "metadata": {
            "tags": []
          }
        }
      ]
    },
    {
      "metadata": {
        "id": "8xfHJ938YSaG",
        "colab_type": "text"
      },
      "cell_type": "markdown",
      "source": [
        "The maximum cross-validated accuracy occurs at k=7. The general shape of the curve is quite typical when examining the  relationship between a model complexity parameter  and the model accuracy. This is an example of the bias variance tradeoff in which lower values of k produce a model with low bias and high variance, and high values of k produce a model with high bias and low variance. The best model  is found in the middle, because it appropriately balances bias and variance, and thus is more likely to generalize the out-of-sample data. \n",
        "When deciding which exact value of k to call the best it is generaly recomended to choose the value which produces the simplest model. In the case of KNN, higer values of k produced low complexity models and thus will choose k=7 as our single best KNN model. "
      ]
    },
    {
      "metadata": {
        "id": "LGp5boANak-u",
        "colab_type": "text"
      },
      "cell_type": "markdown",
      "source": [
        "# Logistic Regression\n",
        "\n",
        "Logistic regression is a powerful statistical way of modeling a binomial outcome with one or more explanatory variables. It measures the relationship between the categorical dependent variable and one or more independent variables by estimating probabilities using a logistic function, which is the cumulative logistic distribution.\n",
        "###Logistic Regresion use cases\n",
        "  - Predicting the Customer Churn\n",
        "  - Credit Scoring & Fraud Detection\n",
        "  - Measuring the effectiveness of marketing campaigns\n"
      ]
    },
    {
      "metadata": {
        "id": "IwCNgwaAZzWH",
        "colab_type": "code",
        "colab": {
          "base_uri": "https://localhost:8080/",
          "height": 153
        },
        "outputId": "03041b14-701c-42fe-c859-a49090ad5004"
      },
      "cell_type": "code",
      "source": [
        "# 10-fold cross-validation with Logistic Regression\n",
        "from sklearn.linear_model import LogisticRegression\n",
        "\n",
        "logreg = LogisticRegression()\n",
        "\n",
        "predicted = cross_validation.cross_val_predict(logreg, X, y, cv=10)\n",
        "print(metrics.accuracy_score(y, predicted))\n",
        "print(metrics.classification_report(y, predicted))\n",
        "\n"
      ],
      "execution_count": 47,
      "outputs": [
        {
          "output_type": "stream",
          "text": [
            "0.9599427753934192\n",
            "             precision    recall  f1-score   support\n",
            "\n",
            "          0       0.97      0.97      0.97       458\n",
            "          1       0.95      0.93      0.94       241\n",
            "\n",
            "avg / total       0.96      0.96      0.96       699\n",
            "\n"
          ],
          "name": "stdout"
        }
      ]
    },
    {
      "metadata": {
        "id": "-PWrwgHpa0t4",
        "colab_type": "code",
        "colab": {
          "base_uri": "https://localhost:8080/",
          "height": 380
        },
        "outputId": "4f6bf578-868a-489c-b151-a5ce82bc4e0d"
      },
      "cell_type": "code",
      "source": [
        "\n",
        "# Compare how doing Logistic Regression with 1 feature, gives low accuracy compared with using the whole data set\n",
        "\n",
        "import numpy as np\n",
        "import matplotlib.pyplot as plt\n",
        "\n",
        "from sklearn import linear_model\n",
        "\n",
        "X = np.array(data_set['clump_thickness'])\n",
        "y = np.array(data_set['class'])\n",
        "\n",
        "X = X.reshape(-1, 1)\n",
        "\n",
        "# Fit the classifier\n",
        "clf = linear_model.LogisticRegression(C=1e5, solver='lbfgs')\n",
        "clf.fit(X, y)\n",
        "\n",
        "plt.style.use('ggplot')\n",
        "fig, ax = plt.subplots()\n",
        "\n",
        "x = data_set['clump_thickness']\n",
        "y = data_set['class']\n",
        "\n",
        "my_scatter_plot = ax.scatter(x, y, c=data_set['clump_thickness'], marker='x', s=180, cmap= plt.cm.Reds, vmin=0, vmax=data_set['class'].max(), edgecolor='6b0c08', linewidth=0.75)\n",
        "\n",
        "loss = model(X_test * clf.coef_ + clf.intercept_).ravel()\n",
        "plt.plot(X_test, loss, color='red', linewidth=3)\n",
        "\n",
        "plt.title('Relation between the Clump Thickness and Diagnosis')\n",
        "plt.xlabel('clump_thickness')\n",
        "plt.ylabel('Diagnosis')\n",
        "\n",
        "plt.ylim(-.25, 1.25)\n",
        "plt.xlim(0, 10)\n",
        "\n",
        "plt.show()"
      ],
      "execution_count": 111,
      "outputs": [
        {
          "output_type": "display_data",
          "data": {
            "image/png": "[encoded data removed]",
            "text/plain": [
              "<matplotlib.figure.Figure at 0x7f8218d91e10>"
            ]
          },
          "metadata": {
            "tags": []
          }
        }
      ]
    },
    {
      "metadata": {
        "id": "bBm-e2yYl-1x",
        "colab_type": "code",
        "colab": {
          "base_uri": "https://localhost:8080/",
          "height": 153
        },
        "outputId": "9d82cff1-7bed-49a5-c583-26e4722afabf"
      },
      "cell_type": "code",
      "source": [
        "# Accuracy for Clump thickness and Diagnosis\n",
        "logreg = LogisticRegression()\n",
        "\n",
        "predicted = cross_validation.cross_val_predict(logreg, X, y, cv=10)\n",
        "print(metrics.accuracy_score(y, predicted))\n",
        "print(metrics.classification_report(y, predicted))"
      ],
      "execution_count": 109,
      "outputs": [
        {
          "output_type": "stream",
          "text": [
            "0.7896995708154506\n",
            "             precision    recall  f1-score   support\n",
            "\n",
            "          0       0.77      0.97      0.86       458\n",
            "          1       0.89      0.44      0.59       241\n",
            "\n",
            "avg / total       0.81      0.79      0.77       699\n",
            "\n"
          ],
          "name": "stdout"
        }
      ]
    },
    {
      "metadata": {
        "id": "2pYmNvi4mLIK",
        "colab_type": "text"
      },
      "cell_type": "markdown",
      "source": [
        "Appliying Logistic regression to only one feature (Clump thickness) gives an accuracy of only 78%, which compared with the accuracy of the whole data set is very low. "
      ]
    },
    {
      "metadata": {
        "id": "iVnkWs7mk4ja",
        "colab_type": "code",
        "colab": {
          "base_uri": "https://localhost:8080/",
          "height": 380
        },
        "outputId": "42f729f5-4e47-47e6-b271-4e779cd2fec4"
      },
      "cell_type": "code",
      "source": [
        "X = np.array(data_set['unif_cell_size'])\n",
        "y = np.array(data_set['class'])\n",
        "\n",
        "X = X.reshape(-1, 1)\n",
        "\n",
        "# Fit the classifier\n",
        "clf = linear_model.LogisticRegression(C=1e5, solver='lbfgs')\n",
        "clf.fit(X, y)\n",
        "\n",
        "plt.style.use('ggplot')\n",
        "fig, ax = plt.subplots()\n",
        "\n",
        "x = data_set['unif_cell_size']\n",
        "y = data_set['class']\n",
        "\n",
        "my_scatter_plot = ax.scatter(x, y, c=data_set['unif_cell_size'], marker='x', s=180, cmap= plt.cm.Reds, vmin=0, vmax=data_set['class'].max(), edgecolor='6b0c08', linewidth=0.75)\n",
        "\n",
        "loss = model(X_test * clf.coef_ + clf.intercept_).ravel()\n",
        "plt.plot(X_test, loss, color='red', linewidth=3)\n",
        "\n",
        "plt.title('Relation between the Uniform cell size and Diagnosis')\n",
        "plt.xlabel('unif_cell_size')\n",
        "plt.ylabel('Diagnosis')\n",
        "\n",
        "plt.ylim(-.25, 1.25)\n",
        "plt.xlim(0, 10)\n",
        "\n",
        "plt.show()"
      ],
      "execution_count": 106,
      "outputs": [
        {
          "output_type": "display_data",
          "data": {
            "image/png": "[encoded data removed]",
            "text/plain": [
              "<matplotlib.figure.Figure at 0x7f8218aea160>"
            ]
          },
          "metadata": {
            "tags": []
          }
        }
      ]
    },
    {
      "metadata": {
        "id": "-BP0517rlNeZ",
        "colab_type": "code",
        "colab": {
          "base_uri": "https://localhost:8080/",
          "height": 380
        },
        "outputId": "a503343f-344a-4e8e-9084-f442aed24e7a"
      },
      "cell_type": "code",
      "source": [
        "X = np.array(data_set['mitoses'])\n",
        "y = np.array(data_set['class'])\n",
        "\n",
        "X = X.reshape(-1, 1)\n",
        "\n",
        "# Fit the classifier\n",
        "clf = linear_model.LogisticRegression(C=1e5, solver='lbfgs')\n",
        "clf.fit(X, y)\n",
        "\n",
        "plt.style.use('ggplot')\n",
        "fig, ax = plt.subplots()\n",
        "\n",
        "x = data_set['mitoses']\n",
        "y = data_set['class']\n",
        "\n",
        "my_scatter_plot = ax.scatter(x, y, c=data_set['mitoses'], marker='x', s=180, cmap= plt.cm.Reds, vmin=0, vmax=data_set['class'].max(), edgecolor='6b0c08', linewidth=0.75)\n",
        "\n",
        "loss = model(X_test * clf.coef_ + clf.intercept_).ravel()\n",
        "plt.plot(X_test, loss, color='red', linewidth=3)\n",
        "\n",
        "plt.title('Relation between the mitoses and Diagnosis')\n",
        "plt.xlabel('mitoses')\n",
        "plt.ylabel('Diagnosis')\n",
        "\n",
        "plt.ylim(-.25, 1.25)\n",
        "plt.xlim(0, 10)\n",
        "\n",
        "plt.show()"
      ],
      "execution_count": 108,
      "outputs": [
        {
          "output_type": "display_data",
          "data": {
            "image/png": "[encoded data removed]",
            "text/plain": [
              "<matplotlib.figure.Figure at 0x7f8218e7f198>"
            ]
          },
          "metadata": {
            "tags": []
          }
        }
      ]
    },
    {
      "metadata": {
        "id": "fuFt7Hhfljkx",
        "colab_type": "code",
        "colab": {
          "base_uri": "https://localhost:8080/",
          "height": 380
        },
        "outputId": "cc3d9618-09f1-4be4-b53c-28d72019de93"
      },
      "cell_type": "code",
      "source": [
        "X = np.array(data_set['mitoses'])\n",
        "y = np.array(data_set['class'])\n",
        "\n",
        "X = X.reshape(-1, 1)\n",
        "\n",
        "# Fit the classifier\n",
        "clf = linear_model.LogisticRegression(C=1e5, solver='lbfgs')\n",
        "clf.fit(X, y)\n",
        "\n",
        "plt.style.use('ggplot')\n",
        "fig, ax = plt.subplots()\n",
        "\n",
        "x = data_set['mitoses']\n",
        "y = data_set['class']\n",
        "\n",
        "my_scatter_plot = ax.scatter(x, y, c=data_set['mitoses'], marker='x', s=180, cmap= plt.cm.Reds, vmin=0, vmax=data_set['class'].max(), edgecolor='6b0c08', linewidth=0.75)\n",
        "\n",
        "loss = model(X_test * clf.coef_ + clf.intercept_).ravel()\n",
        "plt.plot(X_test, loss, color='red', linewidth=3)\n",
        "\n",
        "plt.title('Relation between the mitoses and Diagnosis')\n",
        "plt.xlabel('mitoses')\n",
        "plt.ylabel('Diagnosis')\n",
        "\n",
        "plt.ylim(-.25, 1.25)\n",
        "plt.xlim(0, 10)\n",
        "\n",
        "plt.show()"
      ],
      "execution_count": 112,
      "outputs": [
        {
          "output_type": "display_data",
          "data": {
            "image/png": "[encoded data removed]",
            "text/plain": [
              "<matplotlib.figure.Figure at 0x7f82193b5198>"
            ]
          },
          "metadata": {
            "tags": []
          }
        }
      ]
    },
    {
      "metadata": {
        "id": "-yaaImfbmSeC",
        "colab_type": "text"
      },
      "cell_type": "markdown",
      "source": [
        "# Linear SVC (Support Vector Machine)\n",
        "\n",
        "Support vector machines are supervised learning models with associated learning algorithms that analyze data used for classification and regression analysis. Given a set of training examples, each marked as belonging to one or the other of two categories, an SVM training algorithm builds a model that assigns new examples to one category or the other, making it a non-probabilistic binary linear classifier (although methods such as Platt scaling exist to use SVM in a probabilistic classification setting). An SVM model is a representation of the examples as points in space, mapped so that the examples of the separate categories are divided by a clear gap that is as wide as possible. New examples are then mapped into that same space and predicted to belong to a category based on which side of the gap they fall."
      ]
    },
    {
      "metadata": {
        "id": "yxJHNqF8mWlr",
        "colab_type": "code",
        "colab": {
          "base_uri": "https://localhost:8080/",
          "height": 34
        },
        "outputId": "4da32e45-bf63-4171-b0d9-e86747fa2af1"
      },
      "cell_type": "code",
      "source": [
        "import matplotlib.pyplot as plt\n",
        "from sklearn import svm\n",
        "from matplotlib import style\n",
        "style.use(\"ggplot\")\n",
        "\n",
        "LinSvc = svm.SVC(kernel='linear', C = 1.0)\n",
        "print(cross_val_score(LinSvc, X, y, cv=10, scoring='accuracy').mean())\n"
      ],
      "execution_count": 0,
      "outputs": [
        {
          "output_type": "stream",
          "text": [
            "0.9428950514682299\n"
          ],
          "name": "stdout"
        }
      ]
    },
    {
      "metadata": {
        "id": "JuRZa4Ipmz3a",
        "colab_type": "code",
        "colab": {
          "base_uri": "https://localhost:8080/",
          "height": 153
        },
        "outputId": "0af79caa-7c3b-45d6-8ba3-f42c89b3a0e1"
      },
      "cell_type": "code",
      "source": [
        "predicted = cross_validation.cross_val_predict(LinSvc, X, y)\n",
        "print(metrics.accuracy_score(y, predicted))\n",
        "print(metrics.classification_report(y, predicted))"
      ],
      "execution_count": 0,
      "outputs": [
        {
          "output_type": "stream",
          "text": [
            "0.944206008583691\n",
            "             precision    recall  f1-score   support\n",
            "\n",
            "          0       0.96      0.95      0.96       458\n",
            "          1       0.91      0.93      0.92       241\n",
            "\n",
            "avg / total       0.94      0.94      0.94       699\n",
            "\n"
          ],
          "name": "stdout"
        }
      ]
    },
    {
      "metadata": {
        "id": "WJSmcjbYkhZC",
        "colab_type": "text"
      },
      "cell_type": "markdown",
      "source": [
        "#Naive Bayes\n",
        "Naïve Bayes (NB) classifier is a probabilistic classifier based on the Bayes theorem. Rather than predictions,\n",
        "the Naïve Bayes classifier produces probability estimates. For each class value they estimate the probability that a\n",
        "given instance belongs to that class. It assumes that the effect of an attribute value on a given class is independent of\n",
        "the values of the other attributes. This assumption is called class conditional independence\n",
        "\n",
        "We could predict whether a mass lesion is benign or malignant(class) based on its features (\"clump_thickness\", \"unif_cell_size\", \"unif_cell_shape\", \"marg_adhesion\", \"single_epith_cell_size\", \"bare_nuclei\", \"bland_chrom\", \"norm_nucleoli\", \"mitoses\", \"class\"]).\n",
        "The data set used can be considered small, since it's formed of 699 cases. In this case, Naive Bayes is a good choice because it performs very well even with small data sets. \n",
        "\n",
        "Along with simplicity, Naive Bayes is known to outperform even highly sophisticated classification methods. Naive Bayes is also a good choice when CPU and memory resources are a limiting factor\n",
        "\n",
        "###Naive-Bayes use cases\n",
        "  - Spam detection\n",
        "  - Customer classification\n",
        "  - Credit risk prediction\n",
        "  - **Health risk prediction**\n",
        "\n",
        "##Two types of Naive-Bayes \n",
        "###Bernoulli Model \n",
        "Good for making predictions from binary features.\n",
        "###Gaussian Model \n",
        "Good for making predictions from normally distributed features. "
      ]
    },
    {
      "metadata": {
        "id": "dDrddKXCko0b",
        "colab_type": "code",
        "colab": {
          "base_uri": "https://localhost:8080/",
          "height": 34
        },
        "outputId": "c7cd4af6-19eb-4803-8339-76004d1c790d"
      },
      "cell_type": "code",
      "source": [
        "from sklearn.naive_bayes import BernoulliNB\n",
        "from sklearn.naive_bayes import GaussianNB\n",
        "\n",
        "# Bernoulli model \n",
        "BernNB = BernoulliNB(binarize=True)\n",
        "print(cross_val_score(BernNB, X, y, cv=10, scoring='accuracy').mean())\n"
      ],
      "execution_count": 0,
      "outputs": [
        {
          "output_type": "stream",
          "text": [
            "0.9414469425247136\n"
          ],
          "name": "stdout"
        }
      ]
    },
    {
      "metadata": {
        "id": "oPYKtmVsm5Ih",
        "colab_type": "code",
        "colab": {
          "base_uri": "https://localhost:8080/",
          "height": 153
        },
        "outputId": "bb5c6a56-1bb1-4588-8c03-7744e0d7a2d3"
      },
      "cell_type": "code",
      "source": [
        "predicted = cross_validation.cross_val_predict(BernNB, X, y)\n",
        "print(metrics.accuracy_score(y, predicted))\n",
        "print(metrics.classification_report(y, predicted))"
      ],
      "execution_count": 0,
      "outputs": [
        {
          "output_type": "stream",
          "text": [
            "0.9384835479256081\n",
            "             precision    recall  f1-score   support\n",
            "\n",
            "          0       0.99      0.92      0.95       458\n",
            "          1       0.86      0.98      0.92       241\n",
            "\n",
            "avg / total       0.94      0.94      0.94       699\n",
            "\n"
          ],
          "name": "stdout"
        }
      ]
    },
    {
      "metadata": {
        "id": "rUwv_S5_kusy",
        "colab_type": "code",
        "colab": {
          "base_uri": "https://localhost:8080/",
          "height": 34
        },
        "outputId": "4113e5b3-3cb2-4cfb-bbfd-5325762f4ee1"
      },
      "cell_type": "code",
      "source": [
        "# Gaussian model\n",
        "GausNB = GaussianNB()\n",
        "\n",
        "print(cross_val_score(GausNB, X, y, cv=10, scoring='accuracy').mean())"
      ],
      "execution_count": 0,
      "outputs": [
        {
          "output_type": "stream",
          "text": [
            "0.9571813489633454\n"
          ],
          "name": "stdout"
        }
      ]
    },
    {
      "metadata": {
        "id": "58LdoMXHm8Tg",
        "colab_type": "code",
        "colab": {
          "base_uri": "https://localhost:8080/",
          "height": 153
        },
        "outputId": "5b6ea0bf-47b9-4a88-8076-151c199e901a"
      },
      "cell_type": "code",
      "source": [
        "predicted = cross_validation.cross_val_predict(GausNB, X, y)\n",
        "print(metrics.accuracy_score(y, predicted))\n",
        "print(metrics.classification_report(y, predicted))"
      ],
      "execution_count": 0,
      "outputs": [
        {
          "output_type": "stream",
          "text": [
            "0.9556509298998569\n",
            "             precision    recall  f1-score   support\n",
            "\n",
            "          0       0.98      0.95      0.97       458\n",
            "          1       0.91      0.96      0.94       241\n",
            "\n",
            "avg / total       0.96      0.96      0.96       699\n",
            "\n"
          ],
          "name": "stdout"
        }
      ]
    },
    {
      "metadata": {
        "id": "2dyEEDkJKihA",
        "colab_type": "text"
      },
      "cell_type": "markdown",
      "source": [
        "#Conclusion\n",
        "\n",
        "##Results \n",
        "###K-Nearest Neighbors accuracy: 96.86%\n",
        "###Logistic Regression accuracy: 96.00%\n",
        "###Linear SVC accuracy: 94.28%\n",
        "###Naive-Bayes Bernoulli: 94.14%\n",
        "###Naive-Bayes Gaussian: 95.71%\n",
        "\n",
        "##**We would conclude that K-Nearest Neighbors is likely the best choice for this particular task. **\n",
        "In this paper we investigated the use of four distinct machine learning techiniques for breast cancer diagnosis. The ﬁrst algorithm, K-Nearest Neighbors, demonstrated the best accuracy with 96.86%. \n",
        "\n",
        "All our models performed at 94% + accuracy. \n",
        "\n",
        "###Performance and Robustness\n",
        "The performance of these models was very good. All models performed extremelly well. Our highest score was 96.86% with K-Nearest Neighbors. \n",
        "\n",
        "Given the results obtained, these models appear to be very robust. \n",
        "\n",
        "\n",
        "#Recomendations\n",
        "  - More analysis is recommended to see if we can improve the accuracy.  \n",
        "  - Add more data: Having more data is always a good idea. It allows the “data to tell for itself,” instead of relying on assumptions and weak correlations. Presence of more data results in better and accurate models. \n",
        "  - Multiple algorithms: Hitting at the right machine learning algorithm is the ideal approach to achieve higher accuracy. But, it is easier said than done. This intuition comes with experience and incessant practice. Some algorithms are better suited to a particular type of data sets than others. Hence, we should apply all relevant models and check the performance.\n"
      ]
    }
  ]
}